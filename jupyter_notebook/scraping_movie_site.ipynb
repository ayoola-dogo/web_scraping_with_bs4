{
 "cells": [
  {
   "cell_type": "code",
   "execution_count": 36,
   "metadata": {},
   "outputs": [
    {
     "name": "stdout",
     "output_type": "stream",
     "text": [
      "<class 'pandas.core.frame.DataFrame'>\n",
      "RangeIndex: 43 entries, 0 to 42\n",
      "Data columns (total 5 columns):\n",
      "movie        43 non-null object\n",
      "year         43 non-null object\n",
      "votes        43 non-null object\n",
      "imdb         43 non-null object\n",
      "metascore    43 non-null object\n",
      "dtypes: object(5)\n",
      "memory usage: 1.8+ KB\n",
      "None\n"
     ]
    }
   ],
   "source": [
    "import requests\n",
    "from bs4 import BeautifulSoup\n",
    "import pandas as pd\n",
    "\n",
    "url = 'https://www.imdb.com/search/title/?release_date=2017-01-01,2017-12-31&sort=num_votes,desc&ref_=adv_prv'\n",
    "response_obj = requests.get(url)\n",
    "source = response_obj.text\n",
    "html_soup = BeautifulSoup(source, 'lxml')\n",
    "movies = html_soup.find_all('div', class_='lister-item mode-advanced')\n",
    "# print(len(movies))\n",
    "# print(list(movies)[0].prettify())\n",
    "movie_name = movies[0].find('h3', class_='lister-item-header').a.text\n",
    "movie_year = movies[0].h3.find('span', class_='lister-item-year text-muted unbold').text\n",
    "# ======================================================================================================================\n",
    "ratings = movies[0].find('div', class_='ratings-bar')\n",
    "imdb_rating = ratings.strong.text\n",
    "metascore = ratings.find('div', class_='inline-block ratings-metascore').span.text\n",
    "# ======================================================================================================================\n",
    "int_votes = movies[0].find('p', class_='sort-num_votes-visible')\n",
    "votes = int_votes.find('span', attrs={'name': 'nv'}).text\n",
    "# print(movie_name)\n",
    "# print(movie_year)\n",
    "# print(imdb_rating)\n",
    "# print(metascore)\n",
    "# print(votes)\n",
    "# ======================================================================================================================\n",
    "# Script for a single page\n",
    "movie_names = list()\n",
    "movie_years = list()\n",
    "imdb_ratings = list()\n",
    "meta_scores = list()\n",
    "movie_votes = list()\n",
    "# Extract data for individual movie\n",
    "for movie in movies:\n",
    "    # if movie has a metascore extract\n",
    "    _ratings = movie.find('div', class_='ratings-bar')\n",
    "    if _ratings.find('div', class_='inline-block ratings-metascore'):\n",
    "        movie_name = movie.find('h3', class_='lister-item-header').a.text\n",
    "        movie_names.append(movie_name[:36])\n",
    "        movie_year = movie.h3.find('span', class_='lister-item-year text-muted unbold').text\n",
    "        movie_years.append(movie_year)\n",
    "        imdb_rating = ratings.strong.text\n",
    "        imdb_ratings.append(imdb_rating)\n",
    "        meta_score = ratings.find('div', class_='inline-block ratings-metascore').span.text\n",
    "        meta_scores.append(meta_score)\n",
    "        int_votes = movie.find('p', class_='sort-num_votes-visible')\n",
    "        votes = int_votes.find('span', attrs={'name': 'nv'}).text\n",
    "        movie_votes.append(votes)\n",
    "\n",
    "df = pd.DataFrame({'movie': movie_names, 'year': movie_years, 'votes': movie_votes,\n",
    "                   'imdb': imdb_ratings, 'metascore': meta_scores})\n",
    "# df.style.set_properties(subset=['movie'], **{'width': '50px'})\n",
    "print(df.info())"
   ]
  },
  {
   "cell_type": "code",
   "execution_count": 38,
   "metadata": {
    "scrolled": true
   },
   "outputs": [
    {
     "name": "stdout",
     "output_type": "stream",
     "text": [
      "                                   movie        year    votes imdb   metascore\n",
      "0                                  Logan      (2017)  586,471  8.1  77        \n",
      "1                         Thor: Ragnarok      (2017)  518,964  8.1  77        \n",
      "2         Guardians of the Galaxy Vol. 2      (2017)  511,321  8.1  77        \n",
      "3                           Wonder Woman      (2017)  507,421  8.1  77        \n",
      "4                                Dunkirk      (2017)  487,784  8.1  77        \n",
      "5   Star Wars: Episode VIII - The Last J      (2017)  483,321  8.1  77        \n",
      "6                 Spider-Man: Homecoming      (2017)  460,797  8.1  77        \n",
      "7                                Get Out  (I) (2017)  429,501  8.1  77        \n",
      "8                                     It  (I) (2017)  408,712  8.1  77        \n",
      "9                      Blade Runner 2049      (2017)  400,305  8.1  77        \n",
      "10                           Baby Driver      (2017)  387,221  8.1  77        \n",
      "11  Three Billboards Outside Ebbing, Mis      (2017)  368,169  8.1  77        \n",
      "12                        Justice League      (2017)  346,035  8.1  77        \n",
      "13                    The Shape of Water      (2017)  327,092  8.1  77        \n",
      "14                  John Wick: Chapter 2      (2017)  321,215  8.1  77        \n",
      "15                                  Coco  (I) (2017)  306,092  8.1  77        \n",
      "16        Jumanji: Welcome to the Jungle      (2017)  259,405  8.1  77        \n",
      "17                  Beauty and the Beast      (2017)  248,496  8.1  77        \n",
      "18                    Kong: Skull Island      (2017)  248,422  8.1  77        \n",
      "19           Kingsman: The Golden Circle      (2017)  242,927  8.1  77        \n",
      "20  Pirates of the Caribbean: Dead Men T      (2017)  237,999  8.1  77        \n",
      "21                       Alien: Covenant      (2017)  234,596  8.1  77        \n",
      "22        War for the Planet of the Apes      (2017)  209,484  8.1  77        \n",
      "23                  The Greatest Showman      (2017)  208,597  8.1  77        \n",
      "24                             Lady Bird      (2017)  189,538  8.1  77        \n",
      "25                                  Life  (I) (2017)  189,217  8.1  77        \n",
      "26               The Fate of the Furious      (2017)  188,285  8.1  77        \n",
      "27          Murder on the Orient Express      (2017)  186,520  8.1  77        \n",
      "28                    Ghost in the Shell      (2017)  183,023  8.1  77        \n",
      "29                            Wind River      (2017)  178,995  8.1  77        \n",
      "30      King Arthur: Legend of the Sword      (2017)  175,152  8.1  77        \n",
      "31                The Hitman's Bodyguard      (2017)  169,052  8.1  77        \n",
      "32                               Mother!      (2017)  168,383  8.1  77        \n",
      "33                  Call Me by Your Name      (2017)  167,273  8.1  77        \n",
      "34                             The Mummy      (2017)  160,437  8.1  77        \n",
      "35                         Atomic Blonde      (2017)  158,560  8.1  77        \n",
      "36                                Bright  (I) (2017)  153,979  8.1  77        \n",
      "37                              I, Tonya      (2017)  151,601  8.1  77        \n",
      "38  Valerian and the City of a Thousand       (2017)  147,268  8.1  77        \n",
      "39                          Darkest Hour      (2017)  145,805  8.1  77        \n",
      "40                              Baywatch      (2017)  145,608  8.1  77        \n",
      "41                         American Made      (2017)  140,277  8.1  77        \n",
      "42         Transformers: The Last Knight      (2017)  124,231  8.1  77        \n"
     ]
    }
   ],
   "source": [
    "print(df)"
   ]
  },
  {
   "cell_type": "code",
   "execution_count": 37,
   "metadata": {},
   "outputs": [
    {
     "name": "stdout",
     "output_type": "stream",
     "text": [
      "                                   movie        year    votes imdb   metascore\n",
      "0                                  Logan      (2017)  586,471  8.1  77        \n",
      "1                         Thor: Ragnarok      (2017)  518,964  8.1  77        \n",
      "2         Guardians of the Galaxy Vol. 2      (2017)  511,321  8.1  77        \n",
      "3                           Wonder Woman      (2017)  507,421  8.1  77        \n",
      "4                                Dunkirk      (2017)  487,784  8.1  77        \n",
      "5   Star Wars: Episode VIII - The Last J      (2017)  483,321  8.1  77        \n",
      "6                 Spider-Man: Homecoming      (2017)  460,797  8.1  77        \n",
      "7                                Get Out  (I) (2017)  429,501  8.1  77        \n",
      "8                                     It  (I) (2017)  408,712  8.1  77        \n",
      "9                      Blade Runner 2049      (2017)  400,305  8.1  77        \n",
      "10                           Baby Driver      (2017)  387,221  8.1  77        \n",
      "11  Three Billboards Outside Ebbing, Mis      (2017)  368,169  8.1  77        \n",
      "12                        Justice League      (2017)  346,035  8.1  77        \n",
      "13                    The Shape of Water      (2017)  327,092  8.1  77        \n",
      "14                  John Wick: Chapter 2      (2017)  321,215  8.1  77        \n",
      "15                                  Coco  (I) (2017)  306,092  8.1  77        \n",
      "16        Jumanji: Welcome to the Jungle      (2017)  259,405  8.1  77        \n",
      "17                  Beauty and the Beast      (2017)  248,496  8.1  77        \n",
      "18                    Kong: Skull Island      (2017)  248,422  8.1  77        \n",
      "19           Kingsman: The Golden Circle      (2017)  242,927  8.1  77        \n",
      "20  Pirates of the Caribbean: Dead Men T      (2017)  237,999  8.1  77        \n",
      "21                       Alien: Covenant      (2017)  234,596  8.1  77        \n",
      "22        War for the Planet of the Apes      (2017)  209,484  8.1  77        \n",
      "23                  The Greatest Showman      (2017)  208,597  8.1  77        \n",
      "24                             Lady Bird      (2017)  189,538  8.1  77        \n",
      "25                                  Life  (I) (2017)  189,217  8.1  77        \n",
      "26               The Fate of the Furious      (2017)  188,285  8.1  77        \n",
      "27          Murder on the Orient Express      (2017)  186,520  8.1  77        \n",
      "28                    Ghost in the Shell      (2017)  183,023  8.1  77        \n",
      "29                            Wind River      (2017)  178,995  8.1  77        \n",
      "30      King Arthur: Legend of the Sword      (2017)  175,152  8.1  77        \n",
      "31                The Hitman's Bodyguard      (2017)  169,052  8.1  77        \n",
      "32                               Mother!      (2017)  168,383  8.1  77        \n",
      "33                  Call Me by Your Name      (2017)  167,273  8.1  77        \n",
      "34                             The Mummy      (2017)  160,437  8.1  77        \n",
      "35                         Atomic Blonde      (2017)  158,560  8.1  77        \n",
      "36                                Bright  (I) (2017)  153,979  8.1  77        \n",
      "37                              I, Tonya      (2017)  151,601  8.1  77        \n",
      "38  Valerian and the City of a Thousand       (2017)  147,268  8.1  77        \n",
      "39                          Darkest Hour      (2017)  145,805  8.1  77        \n",
      "40                              Baywatch      (2017)  145,608  8.1  77        \n",
      "41                         American Made      (2017)  140,277  8.1  77        \n",
      "42         Transformers: The Last Knight      (2017)  124,231  8.1  77        \n"
     ]
    }
   ],
   "source": [
    "print(df)"
   ]
  },
  {
   "cell_type": "code",
   "execution_count": null,
   "metadata": {},
   "outputs": [],
   "source": []
  }
 ],
 "metadata": {
  "kernelspec": {
   "display_name": "Python 3",
   "language": "python",
   "name": "python3"
  },
  "language_info": {
   "codemirror_mode": {
    "name": "ipython",
    "version": 3
   },
   "file_extension": ".py",
   "mimetype": "text/x-python",
   "name": "python",
   "nbconvert_exporter": "python",
   "pygments_lexer": "ipython3",
   "version": "3.7.4"
  }
 },
 "nbformat": 4,
 "nbformat_minor": 2
}
